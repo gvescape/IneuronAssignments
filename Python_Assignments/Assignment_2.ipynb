{
 "cells": [
  {
   "cell_type": "markdown",
   "metadata": {},
   "source": [
    "# Assignment_2\n",
    "\n",
    "### Question - 1\n",
    "\n",
    "**1. Create the below pattern using nested for loop in Python.**\n",
    "\n",
    "Sample Output:\n",
      "\n",
      "# *\n",
      "# **\n",
      "# ***\n",
      "# *****\n**",
      "# ***\n",
      "# ***\n",
      "# ***\n",
      "# **\n",
      "# *\n"
   ]
  },
  {
   "cell_type": "code",
   "execution_count": 1,
   "metadata": {},
   "outputs": [
    {
     "name": "stdout",
     "output_type": "stream",
     "text": [
      "\n",
      "*\n",
      "**\n",
      "***\n",
      "****\n",
      "*****\n",
      "****\n",
      "***\n",
      "**\n",
      "*\n"
     ]
    }
   ],
   "source": [
    "k='*'\n",
    "#for i in range(5):\n",
    "    #print(i*k)\n",
    "#for j in range(6,10):\n",
    "    #print((10-j)*k)\n",
    "         # Or\n",
    "for i in range(10):   \n",
    "    if i<=5:\n",
    "        print(i*k)\n",
    "    else:\n",
    "        print((10-i)*k)\n",
    "    "
   ]
  },
  {
   "cell_type": "markdown",
   "metadata": {},
   "source": [
    "**2. Write a Python program to reverse a word after accepting the input from the user.**\n",
    "\n",
    "Sample :\n",
    "\n",
    "Input word: ineuron\n",
    "\n",
    "Output: norueni"
   ]
  },
  {
   "cell_type": "code",
   "execution_count": 2,
   "metadata": {},
   "outputs": [
    {
     "name": "stdout",
     "output_type": "stream",
     "text": [
      "Input word:ineuron\n",
      "Output:norueni\n"
     ]
    }
   ],
   "source": [
    "word=input('Input word:')\n",
    "print(\"Output:{}\".format(word[::-1]))"
   ]
  },
  {
   "cell_type": "code",
   "execution_count": null,
   "metadata": {},
   "outputs": [],
   "source": []
  },
  {
   "cell_type": "code",
   "execution_count": null,
   "metadata": {},
   "outputs": [],
   "source": []
  }
 ],
 "metadata": {
  "kernelspec": {
   "display_name": "Python 3",
   "language": "python",
   "name": "python3"
  },
  "language_info": {
   "codemirror_mode": {
    "name": "ipython",
    "version": 3
   },
   "file_extension": ".py",
   "mimetype": "text/x-python",
   "name": "python",
   "nbconvert_exporter": "python",
   "pygments_lexer": "ipython3",
   "version": "3.7.6"
  }
 },
 "nbformat": 4,
 "nbformat_minor": 4
}
