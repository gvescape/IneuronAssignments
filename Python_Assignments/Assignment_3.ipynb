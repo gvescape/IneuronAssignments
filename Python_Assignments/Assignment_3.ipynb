{
 "cells": [
  {
   "cell_type": "markdown",
   "metadata": {},
   "source": [
    "# Assignment -3\n",
    "\n",
    "### Question -1.1\n",
    "\n",
    "**1.1 Write a Python Program to implement your own myreduce() function which works exactly\n",
    "like Python's built-in function reduce().**\n",
    "\n"
   ]
  },
  {
   "cell_type": "code",
   "execution_count": 1,
   "metadata": {},
   "outputs": [
    {
     "name": "stdout",
     "output_type": "stream",
     "text": [
      "Enter the list elements with a space in between :5 6 9 80 34 7\n",
      "[5, 6, 9, 80, 34, 7]\n",
      "Product of list is : 5140800 \n",
      "Sum of list is : 141\n"
     ]
    }
   ],
   "source": [
    "#list_=[]\n",
    "#k=int(input('enter no of elements in list:'))\n",
    "#for i in  range(0,k):\n",
    "    #list_next = int(input())\n",
    "    #list_.append(list_next)\n",
    "li=input('Enter the list elements with a space in between :').split()\n",
    "list_= [int(i) for i in li]\n",
    "print(list_)    \n",
    "def myreduce(func,list_):\n",
    "    x=func(list_[0],list_[1])\n",
    "    for i in range(2,len(list_)):\n",
    "        x=func(x,list_[i])\n",
    "    return x\n",
    "def add(a,b):\n",
    "    return a+b\n",
    "def mul(a,b):\n",
    "    return a*b\n",
    "k= myreduce(mul,list_)\n",
    "y= myreduce(add,list_)\n",
    "print('Product of list is : {} \\nSum of list is : {}'.format(k,y))"
   ]
  },
  {
   "cell_type": "markdown",
   "metadata": {},
   "source": [
    "### Question -1.2\n",
    "**1.2 Write a Python program to implement your own myfilter() function which works exactly\n",
    "like Python's built-in function filter().**"
   ]
  },
  {
   "cell_type": "code",
   "execution_count": 2,
   "metadata": {},
   "outputs": [
    {
     "name": "stdout",
     "output_type": "stream",
     "text": [
      "[5, 4, 3, 3, 2, 1]\n"
     ]
    }
   ],
   "source": [
    "seq=[200,7,8,9,5,4,3,3,2,1]\n",
    "\n",
    "def less_than2(x):\n",
    "    if x<=6:\n",
    "        return x\n",
    "\n",
    "def myfilter(func,seq):\n",
    "    k=[]\n",
    "    for i in seq:\n",
    "        if func(i):\n",
    "            k.append(i)\n",
    "    return k\n",
    "k=  myfilter(less_than2,seq)\n",
    "print(k)"
   ]
  },
  {
   "cell_type": "markdown",
   "metadata": {},
   "source": [
    "### Question-2\n",
    "\n",
    "**Implement List comprehensions to produce the following lists.\n",
    "Write List comprehensions to produce the following Lists.**\n",
    "\n",
    "['x', 'xx', 'xxx', 'xxxx', 'y', 'yy', 'yyy', 'yyyy', 'z', 'zz', 'zzz', 'zzzz']\n",
    "\n",
    "['x', 'y', 'z', 'xx', 'yy', 'zz', 'xxx', 'yyy', 'zzz', 'xxxx', 'yyyy', 'zzzz']\n",
    "\n",
    "[(1, 1), (2, 1), (3, 1), (1, 2), (2, 2), (3, 2), (1, 3), (2, 3), (3, 3)]\n",
    "\n",
    "[[2], [3], [4], [3], [4], [5], [4], [5], [6]]\n",
    "\n",
    "[[2, 3, 4, 5], [3, 4, 5, 6],[4, 5, 6, 7], [5, 6, 7, 8]]"
   ]
  },
  {
   "cell_type": "code",
   "execution_count": 3,
   "metadata": {},
   "outputs": [
    {
     "name": "stdout",
     "output_type": "stream",
     "text": [
      "['x', 'xx', 'xxx', 'xxxx', 'y', 'yy', 'yyy', 'yyyy', 'z', 'zz', 'zzz', 'zzzz']\n",
      "['x', 'y', 'z', 'xx', 'yy', 'zz', 'xxx', 'yyy', 'zzz', 'xxxx', 'yyyy', 'zzzz']\n",
      "[(1, 1), (2, 1), (3, 1), (1, 2), (2, 2), (3, 2), (1, 3), (2, 3), (3, 3)]\n",
      "[[2], [3], [4], [3], [4], [5], [4], [5], [6]]\n",
      "[[2, 3, 4, 5], [3, 4, 5, 6], [4, 5, 6, 7], [5, 6, 7, 8]]\n"
     ]
    }
   ],
   "source": [
    "k=['x','y','z']\n",
    "L1 = [i*j for i in k for j in range(1,5)]\n",
    "print(L1)\n",
    "L2 = [i*j for i in range(1,5) for j in k]\n",
    "print(L2)\n",
    "L3 = [(i,j) for j in range(1,4) for i in range(1,4)]\n",
    "print(L3)\n",
    "L4 = [[i+j] for j in range(1,4) for i in range(1,4)]\n",
    "print(L4)\n",
    "L5 = [[i+j for i in range(1,5)] for j in range(1,5)]\n",
    "print(L5)"
   ]
  },
  {
   "cell_type": "code",
   "execution_count": null,
   "metadata": {},
   "outputs": [],
   "source": []
  }
 ],
 "metadata": {
  "kernelspec": {
   "display_name": "Python 3",
   "language": "python",
   "name": "python3"
  },
  "language_info": {
   "codemirror_mode": {
    "name": "ipython",
    "version": 3
   },
   "file_extension": ".py",
   "mimetype": "text/x-python",
   "name": "python",
   "nbconvert_exporter": "python",
   "pygments_lexer": "ipython3",
   "version": "3.7.6"
  }
 },
 "nbformat": 4,
 "nbformat_minor": 4
}
